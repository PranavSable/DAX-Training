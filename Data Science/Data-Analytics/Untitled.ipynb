{
 "cells": [
  {
   "cell_type": "code",
   "execution_count": 1,
   "id": "c9e0435d",
   "metadata": {},
   "outputs": [],
   "source": [
    "import pandas as pd"
   ]
  },
  {
   "cell_type": "markdown",
   "id": "6e238631",
   "metadata": {},
   "source": [
    "# Load csv file in notebook using python code \n"
   ]
  },
  {
   "cell_type": "code",
   "execution_count": 2,
   "id": "a1cc4fe6",
   "metadata": {},
   "outputs": [],
   "source": [
    "f1=pd.read_csv(r'C:\\Users\\psable\\Desktop\\DAX-DS-ASSIGNMENT-2022-Pranav_Sable\\Data-Analytics\\healthcare-dataset-stroke-data.csv')"
   ]
  },
  {
   "cell_type": "markdown",
   "id": "56a411cb",
   "metadata": {},
   "source": [
    "# Explore Data using python code\n"
   ]
  },
  {
   "cell_type": "code",
   "execution_count": 3,
   "id": "df345e66",
   "metadata": {},
   "outputs": [
    {
     "data": {
      "text/html": [
       "<div>\n",
       "<style scoped>\n",
       "    .dataframe tbody tr th:only-of-type {\n",
       "        vertical-align: middle;\n",
       "    }\n",
       "\n",
       "    .dataframe tbody tr th {\n",
       "        vertical-align: top;\n",
       "    }\n",
       "\n",
       "    .dataframe thead th {\n",
       "        text-align: right;\n",
       "    }\n",
       "</style>\n",
       "<table border=\"1\" class=\"dataframe\">\n",
       "  <thead>\n",
       "    <tr style=\"text-align: right;\">\n",
       "      <th></th>\n",
       "      <th>id</th>\n",
       "      <th>gender</th>\n",
       "      <th>age</th>\n",
       "      <th>hypertension</th>\n",
       "      <th>heart_disease</th>\n",
       "      <th>ever_married</th>\n",
       "      <th>work_type</th>\n",
       "      <th>Residence_type</th>\n",
       "      <th>avg_glucose_level</th>\n",
       "      <th>bmi</th>\n",
       "      <th>smoking_status</th>\n",
       "      <th>stroke</th>\n",
       "    </tr>\n",
       "  </thead>\n",
       "  <tbody>\n",
       "    <tr>\n",
       "      <th>0</th>\n",
       "      <td>9046</td>\n",
       "      <td>Male</td>\n",
       "      <td>67.0</td>\n",
       "      <td>0</td>\n",
       "      <td>1</td>\n",
       "      <td>Yes</td>\n",
       "      <td>Private</td>\n",
       "      <td>Urban</td>\n",
       "      <td>228.69</td>\n",
       "      <td>36.6</td>\n",
       "      <td>formerly smoked</td>\n",
       "      <td>1</td>\n",
       "    </tr>\n",
       "    <tr>\n",
       "      <th>1</th>\n",
       "      <td>51676</td>\n",
       "      <td>Female</td>\n",
       "      <td>61.0</td>\n",
       "      <td>0</td>\n",
       "      <td>0</td>\n",
       "      <td>Yes</td>\n",
       "      <td>Self-employed</td>\n",
       "      <td>Rural</td>\n",
       "      <td>202.21</td>\n",
       "      <td>NaN</td>\n",
       "      <td>never smoked</td>\n",
       "      <td>1</td>\n",
       "    </tr>\n",
       "    <tr>\n",
       "      <th>2</th>\n",
       "      <td>31112</td>\n",
       "      <td>Male</td>\n",
       "      <td>80.0</td>\n",
       "      <td>0</td>\n",
       "      <td>1</td>\n",
       "      <td>Yes</td>\n",
       "      <td>Private</td>\n",
       "      <td>Rural</td>\n",
       "      <td>105.92</td>\n",
       "      <td>32.5</td>\n",
       "      <td>never smoked</td>\n",
       "      <td>1</td>\n",
       "    </tr>\n",
       "    <tr>\n",
       "      <th>3</th>\n",
       "      <td>60182</td>\n",
       "      <td>Female</td>\n",
       "      <td>49.0</td>\n",
       "      <td>0</td>\n",
       "      <td>0</td>\n",
       "      <td>Yes</td>\n",
       "      <td>Private</td>\n",
       "      <td>Urban</td>\n",
       "      <td>171.23</td>\n",
       "      <td>34.4</td>\n",
       "      <td>smokes</td>\n",
       "      <td>1</td>\n",
       "    </tr>\n",
       "    <tr>\n",
       "      <th>4</th>\n",
       "      <td>1665</td>\n",
       "      <td>Female</td>\n",
       "      <td>79.0</td>\n",
       "      <td>1</td>\n",
       "      <td>0</td>\n",
       "      <td>Yes</td>\n",
       "      <td>Self-employed</td>\n",
       "      <td>Rural</td>\n",
       "      <td>174.12</td>\n",
       "      <td>24.0</td>\n",
       "      <td>never smoked</td>\n",
       "      <td>1</td>\n",
       "    </tr>\n",
       "    <tr>\n",
       "      <th>...</th>\n",
       "      <td>...</td>\n",
       "      <td>...</td>\n",
       "      <td>...</td>\n",
       "      <td>...</td>\n",
       "      <td>...</td>\n",
       "      <td>...</td>\n",
       "      <td>...</td>\n",
       "      <td>...</td>\n",
       "      <td>...</td>\n",
       "      <td>...</td>\n",
       "      <td>...</td>\n",
       "      <td>...</td>\n",
       "    </tr>\n",
       "    <tr>\n",
       "      <th>95</th>\n",
       "      <td>2458</td>\n",
       "      <td>Female</td>\n",
       "      <td>78.0</td>\n",
       "      <td>0</td>\n",
       "      <td>0</td>\n",
       "      <td>Yes</td>\n",
       "      <td>Private</td>\n",
       "      <td>Rural</td>\n",
       "      <td>235.63</td>\n",
       "      <td>32.3</td>\n",
       "      <td>never smoked</td>\n",
       "      <td>1</td>\n",
       "    </tr>\n",
       "    <tr>\n",
       "      <th>96</th>\n",
       "      <td>35512</td>\n",
       "      <td>Female</td>\n",
       "      <td>70.0</td>\n",
       "      <td>0</td>\n",
       "      <td>0</td>\n",
       "      <td>Yes</td>\n",
       "      <td>Self-employed</td>\n",
       "      <td>Rural</td>\n",
       "      <td>76.34</td>\n",
       "      <td>24.4</td>\n",
       "      <td>formerly smoked</td>\n",
       "      <td>1</td>\n",
       "    </tr>\n",
       "    <tr>\n",
       "      <th>97</th>\n",
       "      <td>56841</td>\n",
       "      <td>Male</td>\n",
       "      <td>58.0</td>\n",
       "      <td>0</td>\n",
       "      <td>1</td>\n",
       "      <td>Yes</td>\n",
       "      <td>Private</td>\n",
       "      <td>Rural</td>\n",
       "      <td>240.59</td>\n",
       "      <td>31.4</td>\n",
       "      <td>smokes</td>\n",
       "      <td>1</td>\n",
       "    </tr>\n",
       "    <tr>\n",
       "      <th>98</th>\n",
       "      <td>8154</td>\n",
       "      <td>Male</td>\n",
       "      <td>57.0</td>\n",
       "      <td>1</td>\n",
       "      <td>0</td>\n",
       "      <td>Yes</td>\n",
       "      <td>Govt_job</td>\n",
       "      <td>Urban</td>\n",
       "      <td>78.92</td>\n",
       "      <td>27.7</td>\n",
       "      <td>formerly smoked</td>\n",
       "      <td>1</td>\n",
       "    </tr>\n",
       "    <tr>\n",
       "      <th>99</th>\n",
       "      <td>4639</td>\n",
       "      <td>Female</td>\n",
       "      <td>69.0</td>\n",
       "      <td>0</td>\n",
       "      <td>0</td>\n",
       "      <td>Yes</td>\n",
       "      <td>Govt_job</td>\n",
       "      <td>Urban</td>\n",
       "      <td>82.81</td>\n",
       "      <td>28.0</td>\n",
       "      <td>never smoked</td>\n",
       "      <td>1</td>\n",
       "    </tr>\n",
       "  </tbody>\n",
       "</table>\n",
       "<p>100 rows × 12 columns</p>\n",
       "</div>"
      ],
      "text/plain": [
       "       id  gender   age  hypertension  heart_disease ever_married  \\\n",
       "0    9046    Male  67.0             0              1          Yes   \n",
       "1   51676  Female  61.0             0              0          Yes   \n",
       "2   31112    Male  80.0             0              1          Yes   \n",
       "3   60182  Female  49.0             0              0          Yes   \n",
       "4    1665  Female  79.0             1              0          Yes   \n",
       "..    ...     ...   ...           ...            ...          ...   \n",
       "95   2458  Female  78.0             0              0          Yes   \n",
       "96  35512  Female  70.0             0              0          Yes   \n",
       "97  56841    Male  58.0             0              1          Yes   \n",
       "98   8154    Male  57.0             1              0          Yes   \n",
       "99   4639  Female  69.0             0              0          Yes   \n",
       "\n",
       "        work_type Residence_type  avg_glucose_level   bmi   smoking_status  \\\n",
       "0         Private          Urban             228.69  36.6  formerly smoked   \n",
       "1   Self-employed          Rural             202.21   NaN     never smoked   \n",
       "2         Private          Rural             105.92  32.5     never smoked   \n",
       "3         Private          Urban             171.23  34.4           smokes   \n",
       "4   Self-employed          Rural             174.12  24.0     never smoked   \n",
       "..            ...            ...                ...   ...              ...   \n",
       "95        Private          Rural             235.63  32.3     never smoked   \n",
       "96  Self-employed          Rural              76.34  24.4  formerly smoked   \n",
       "97        Private          Rural             240.59  31.4           smokes   \n",
       "98       Govt_job          Urban              78.92  27.7  formerly smoked   \n",
       "99       Govt_job          Urban              82.81  28.0     never smoked   \n",
       "\n",
       "    stroke  \n",
       "0        1  \n",
       "1        1  \n",
       "2        1  \n",
       "3        1  \n",
       "4        1  \n",
       "..     ...  \n",
       "95       1  \n",
       "96       1  \n",
       "97       1  \n",
       "98       1  \n",
       "99       1  \n",
       "\n",
       "[100 rows x 12 columns]"
      ]
     },
     "execution_count": 3,
     "metadata": {},
     "output_type": "execute_result"
    }
   ],
   "source": [
    "f1.head(100)"
   ]
  },
  {
   "cell_type": "markdown",
   "id": "f3906330",
   "metadata": {},
   "source": [
    "# Total records, Null count\n"
   ]
  },
  {
   "cell_type": "code",
   "execution_count": 4,
   "id": "e5df86dc",
   "metadata": {},
   "outputs": [
    {
     "name": "stdout",
     "output_type": "stream",
     "text": [
      "Number of records:  5110\n"
     ]
    }
   ],
   "source": [
    "print(\"Number of records: \", len(f1))"
   ]
  },
  {
   "cell_type": "code",
   "execution_count": 5,
   "id": "c931030f",
   "metadata": {},
   "outputs": [
    {
     "data": {
      "text/plain": [
       "201"
      ]
     },
     "execution_count": 5,
     "metadata": {},
     "output_type": "execute_result"
    }
   ],
   "source": [
    "f1.isna().sum().sum()"
   ]
  },
  {
   "cell_type": "markdown",
   "id": "e39502f5",
   "metadata": {},
   "source": [
    "# Mean, median, std-dev for each numerical column"
   ]
  },
  {
   "cell_type": "code",
   "execution_count": 6,
   "id": "fd931a7e",
   "metadata": {},
   "outputs": [
    {
     "name": "stdout",
     "output_type": "stream",
     "text": [
      "id                   36517.829354\n",
      "age                     43.226614\n",
      "hypertension             0.097456\n",
      "heart_disease            0.054012\n",
      "avg_glucose_level      106.147677\n",
      "bmi                     28.893237\n",
      "stroke                   0.048728\n",
      "dtype: float64\n"
     ]
    },
    {
     "name": "stderr",
     "output_type": "stream",
     "text": [
      "C:\\Users\\psable\\AppData\\Local\\Temp\\ipykernel_12100\\610099235.py:1: FutureWarning: Dropping of nuisance columns in DataFrame reductions (with 'numeric_only=None') is deprecated; in a future version this will raise TypeError.  Select only valid columns before calling the reduction.\n",
      "  print(f1.mean())\n"
     ]
    }
   ],
   "source": [
    "print(f1.mean())\n"
   ]
  },
  {
   "cell_type": "code",
   "execution_count": 7,
   "id": "091b2372",
   "metadata": {},
   "outputs": [
    {
     "name": "stdout",
     "output_type": "stream",
     "text": [
      "id                   36932.000\n",
      "age                     45.000\n",
      "hypertension             0.000\n",
      "heart_disease            0.000\n",
      "avg_glucose_level       91.885\n",
      "bmi                     28.100\n",
      "stroke                   0.000\n",
      "dtype: float64\n"
     ]
    },
    {
     "name": "stderr",
     "output_type": "stream",
     "text": [
      "C:\\Users\\psable\\AppData\\Local\\Temp\\ipykernel_12100\\376945858.py:1: FutureWarning: Dropping of nuisance columns in DataFrame reductions (with 'numeric_only=None') is deprecated; in a future version this will raise TypeError.  Select only valid columns before calling the reduction.\n",
      "  print(f1.median())\n"
     ]
    }
   ],
   "source": [
    "print(f1.median())"
   ]
  },
  {
   "cell_type": "code",
   "execution_count": 8,
   "id": "444db167",
   "metadata": {},
   "outputs": [
    {
     "name": "stdout",
     "output_type": "stream",
     "text": [
      "id                   21161.721625\n",
      "age                     22.612647\n",
      "hypertension             0.296607\n",
      "heart_disease            0.226063\n",
      "avg_glucose_level       45.283560\n",
      "bmi                      7.854067\n",
      "stroke                   0.215320\n",
      "dtype: float64\n"
     ]
    },
    {
     "name": "stderr",
     "output_type": "stream",
     "text": [
      "C:\\Users\\psable\\AppData\\Local\\Temp\\ipykernel_12100\\1142914272.py:1: FutureWarning: Dropping of nuisance columns in DataFrame reductions (with 'numeric_only=None') is deprecated; in a future version this will raise TypeError.  Select only valid columns before calling the reduction.\n",
      "  print(f1.std())\n"
     ]
    }
   ],
   "source": [
    "print(f1.std())"
   ]
  },
  {
   "cell_type": "code",
   "execution_count": 9,
   "id": "64c7c668",
   "metadata": {},
   "outputs": [
    {
     "data": {
      "text/html": [
       "<div>\n",
       "<style scoped>\n",
       "    .dataframe tbody tr th:only-of-type {\n",
       "        vertical-align: middle;\n",
       "    }\n",
       "\n",
       "    .dataframe tbody tr th {\n",
       "        vertical-align: top;\n",
       "    }\n",
       "\n",
       "    .dataframe thead th {\n",
       "        text-align: right;\n",
       "    }\n",
       "</style>\n",
       "<table border=\"1\" class=\"dataframe\">\n",
       "  <thead>\n",
       "    <tr style=\"text-align: right;\">\n",
       "      <th></th>\n",
       "      <th>id</th>\n",
       "      <th>age</th>\n",
       "      <th>hypertension</th>\n",
       "      <th>heart_disease</th>\n",
       "      <th>avg_glucose_level</th>\n",
       "      <th>bmi</th>\n",
       "      <th>stroke</th>\n",
       "    </tr>\n",
       "  </thead>\n",
       "  <tbody>\n",
       "    <tr>\n",
       "      <th>count</th>\n",
       "      <td>5110.000000</td>\n",
       "      <td>5110.000000</td>\n",
       "      <td>5110.000000</td>\n",
       "      <td>5110.000000</td>\n",
       "      <td>5110.000000</td>\n",
       "      <td>4909.000000</td>\n",
       "      <td>5110.000000</td>\n",
       "    </tr>\n",
       "    <tr>\n",
       "      <th>mean</th>\n",
       "      <td>36517.829354</td>\n",
       "      <td>43.226614</td>\n",
       "      <td>0.097456</td>\n",
       "      <td>0.054012</td>\n",
       "      <td>106.147677</td>\n",
       "      <td>28.893237</td>\n",
       "      <td>0.048728</td>\n",
       "    </tr>\n",
       "    <tr>\n",
       "      <th>std</th>\n",
       "      <td>21161.721625</td>\n",
       "      <td>22.612647</td>\n",
       "      <td>0.296607</td>\n",
       "      <td>0.226063</td>\n",
       "      <td>45.283560</td>\n",
       "      <td>7.854067</td>\n",
       "      <td>0.215320</td>\n",
       "    </tr>\n",
       "    <tr>\n",
       "      <th>min</th>\n",
       "      <td>67.000000</td>\n",
       "      <td>0.080000</td>\n",
       "      <td>0.000000</td>\n",
       "      <td>0.000000</td>\n",
       "      <td>55.120000</td>\n",
       "      <td>10.300000</td>\n",
       "      <td>0.000000</td>\n",
       "    </tr>\n",
       "    <tr>\n",
       "      <th>25%</th>\n",
       "      <td>17741.250000</td>\n",
       "      <td>25.000000</td>\n",
       "      <td>0.000000</td>\n",
       "      <td>0.000000</td>\n",
       "      <td>77.245000</td>\n",
       "      <td>23.500000</td>\n",
       "      <td>0.000000</td>\n",
       "    </tr>\n",
       "    <tr>\n",
       "      <th>50%</th>\n",
       "      <td>36932.000000</td>\n",
       "      <td>45.000000</td>\n",
       "      <td>0.000000</td>\n",
       "      <td>0.000000</td>\n",
       "      <td>91.885000</td>\n",
       "      <td>28.100000</td>\n",
       "      <td>0.000000</td>\n",
       "    </tr>\n",
       "    <tr>\n",
       "      <th>75%</th>\n",
       "      <td>54682.000000</td>\n",
       "      <td>61.000000</td>\n",
       "      <td>0.000000</td>\n",
       "      <td>0.000000</td>\n",
       "      <td>114.090000</td>\n",
       "      <td>33.100000</td>\n",
       "      <td>0.000000</td>\n",
       "    </tr>\n",
       "    <tr>\n",
       "      <th>max</th>\n",
       "      <td>72940.000000</td>\n",
       "      <td>82.000000</td>\n",
       "      <td>1.000000</td>\n",
       "      <td>1.000000</td>\n",
       "      <td>271.740000</td>\n",
       "      <td>97.600000</td>\n",
       "      <td>1.000000</td>\n",
       "    </tr>\n",
       "  </tbody>\n",
       "</table>\n",
       "</div>"
      ],
      "text/plain": [
       "                 id          age  hypertension  heart_disease  \\\n",
       "count   5110.000000  5110.000000   5110.000000    5110.000000   \n",
       "mean   36517.829354    43.226614      0.097456       0.054012   \n",
       "std    21161.721625    22.612647      0.296607       0.226063   \n",
       "min       67.000000     0.080000      0.000000       0.000000   \n",
       "25%    17741.250000    25.000000      0.000000       0.000000   \n",
       "50%    36932.000000    45.000000      0.000000       0.000000   \n",
       "75%    54682.000000    61.000000      0.000000       0.000000   \n",
       "max    72940.000000    82.000000      1.000000       1.000000   \n",
       "\n",
       "       avg_glucose_level          bmi       stroke  \n",
       "count        5110.000000  4909.000000  5110.000000  \n",
       "mean          106.147677    28.893237     0.048728  \n",
       "std            45.283560     7.854067     0.215320  \n",
       "min            55.120000    10.300000     0.000000  \n",
       "25%            77.245000    23.500000     0.000000  \n",
       "50%            91.885000    28.100000     0.000000  \n",
       "75%           114.090000    33.100000     0.000000  \n",
       "max           271.740000    97.600000     1.000000  "
      ]
     },
     "execution_count": 9,
     "metadata": {},
     "output_type": "execute_result"
    }
   ],
   "source": [
    "f1.describe()"
   ]
  },
  {
   "cell_type": "markdown",
   "id": "a05ce36d",
   "metadata": {},
   "source": [
    "# Plot charts and explain them in words"
   ]
  },
  {
   "cell_type": "code",
   "execution_count": 10,
   "id": "23d10c5b",
   "metadata": {},
   "outputs": [],
   "source": [
    "import matplotlib\n",
    "%matplotlib inline\n",
    "from matplotlib import pyplot as plt"
   ]
  },
  {
   "cell_type": "code",
   "execution_count": 11,
   "id": "ba7c748e",
   "metadata": {},
   "outputs": [
    {
     "data": {
      "text/plain": [
       "<AxesSubplot:xlabel='age'>"
      ]
     },
     "execution_count": 11,
     "metadata": {},
     "output_type": "execute_result"
    },
    {
     "data": {
      "image/png": "[encoded data removed]",
      "text/plain": [
       "<Figure size 432x288 with 1 Axes>"
      ]
     },
     "metadata": {
      "needs_background": "light"
     },
     "output_type": "display_data"
    }
   ],
   "source": [
    "f1.plot(x='age', y='avg_glucose_level', kind='line')\n",
    "\n",
    "#The increase in average glucose level is seen as the age increases, and is found to be a bit less severe in younger candidates."
   ]
  },
  {
   "cell_type": "code",
   "execution_count": 12,
   "id": "c25e6a98",
   "metadata": {},
   "outputs": [
    {
     "data": {
      "text/plain": [
       "<AxesSubplot:xlabel='bmi', ylabel='avg_glucose_level'>"
      ]
     },
     "execution_count": 12,
     "metadata": {},
     "output_type": "execute_result"
    },
    {
     "data": {
      "image/png": "[encoded data removed]",
      "text/plain": [
       "<Figure size 432x288 with 1 Axes>"
      ]
     },
     "metadata": {
      "needs_background": "light"
     },
     "output_type": "display_data"
    }
   ],
   "source": [
    "f1.plot(x='bmi', y='avg_glucose_level', kind='scatter')\n",
    "\n",
    "# With increase in the average glucose level, the maximum bmi's of human beings are seen i.e(between 20 and 40).\n"
   ]
  },
  {
   "cell_type": "markdown",
   "id": "7cf1f7b8",
   "metadata": {},
   "source": [
    "# Check if “BMI” column has null values? what is the percentage of null values ? use data engineering method to fill the null values.\n"
   ]
  },
  {
   "cell_type": "code",
   "execution_count": 13,
   "id": "edd50768",
   "metadata": {},
   "outputs": [
    {
     "data": {
      "text/plain": [
       "True"
      ]
     },
     "execution_count": 13,
     "metadata": {},
     "output_type": "execute_result"
    }
   ],
   "source": [
    "f1['bmi'].isnull().values.any()"
   ]
  },
  {
   "cell_type": "code",
   "execution_count": 14,
   "id": "7a6903b4",
   "metadata": {},
   "outputs": [
    {
     "data": {
      "text/plain": [
       "4.094520268893868"
      ]
     },
     "execution_count": 14,
     "metadata": {},
     "output_type": "execute_result"
    }
   ],
   "source": [
    "f1['bmi'].isnull().sum()*100/f1.bmi.count()"
   ]
  },
  {
   "cell_type": "code",
   "execution_count": 15,
   "id": "703330a4",
   "metadata": {},
   "outputs": [],
   "source": [
    "f1['bmi'].fillna(0,inplace=True)"
   ]
  },
  {
   "cell_type": "markdown",
   "id": "f62091aa",
   "metadata": {},
   "source": [
    "# Perform Scaling on all numerical columns"
   ]
  },
  {
   "cell_type": "code",
   "execution_count": 16,
   "id": "0d120476",
   "metadata": {},
   "outputs": [
    {
     "name": "stdout",
     "output_type": "stream",
     "text": [
      "[[-1.29831203  1.05143428 -0.32860186 ...  2.70637544  0.92807976\n",
      "   4.41838074]\n",
      " [ 0.71637149  0.78607007 -0.32860186 ...  2.12155854 -2.91300238\n",
      "   4.41838074]\n",
      " [-0.25547819  1.62639008 -0.32860186 ... -0.0050283   0.4977946\n",
      "   4.41838074]\n",
      " ...\n",
      " [-0.79371959 -0.36384151 -0.32860186 ... -0.51144264  0.29839416\n",
      "  -0.22632726]\n",
      " [ 0.04849658  0.34379639 -0.32860186 ...  1.32825706 -0.22634384\n",
      "  -0.22632726]\n",
      " [ 0.38569496  0.03420481 -0.32860186 ... -0.46086746 -0.16337528\n",
      "  -0.22632726]]\n"
     ]
    }
   ],
   "source": [
    "from sklearn.preprocessing import StandardScaler\n",
    "columnlist=['id','age','hypertension','heart_disease','avg_glucose_level','bmi','stroke']\n",
    "scale=StandardScaler()\n",
    "scaled_f1 =f1[['id','age','hypertension','heart_disease','avg_glucose_level','bmi','stroke']]\n",
    "scaled_f1=scale.fit_transform(scaled_f1)\n",
    "print(scaled_f1)"
   ]
  },
  {
   "cell_type": "markdown",
   "id": "a4b3c038",
   "metadata": {},
   "source": [
    "# Perform Encoding on all categorical columns"
   ]
  },
  {
   "cell_type": "code",
   "execution_count": 17,
   "id": "fd224c9d",
   "metadata": {},
   "outputs": [
    {
     "name": "stdout",
     "output_type": "stream",
     "text": [
      "['Male' 'Female' 'Other']\n",
      "['Yes' 'No']\n",
      "['Private' 'Self-employed' 'Govt_job' 'children' 'Never_worked']\n",
      "['Urban' 'Rural']\n",
      "['formerly smoked' 'never smoked' 'smokes' 'Unknown']\n"
     ]
    }
   ],
   "source": [
    "print(f1['gender'].unique())\n",
    "print(f1['ever_married'].unique())\n",
    "print(f1['work_type'].unique())\n",
    "print(f1['Residence_type'].unique())\n",
    "print(f1['smoking_status'].unique())"
   ]
  },
  {
   "cell_type": "code",
   "execution_count": 18,
   "id": "4d2b142b",
   "metadata": {},
   "outputs": [
    {
     "name": "stdout",
     "output_type": "stream",
     "text": [
      "[1 1 1 1 1 1 0 1 1 1 1 1 1 1 1 1 1 0 0]\n"
     ]
    }
   ],
   "source": [
    "from sklearn.preprocessing import LabelEncoder\n",
    "\n",
    "f1_categorical=f1[['gender','ever_married','work_type','Residence_type','smoking_status']]\n",
    "\n",
    "evermarried_encoder = LabelEncoder()\n",
    "evermarried_encoder.fit(f1_categorical['ever_married'])\n",
    "evermarried_values=evermarried_encoder.transform(f1_categorical['ever_married'])\n",
    "print(evermarried_values[1:20])"
   ]
  },
  {
   "cell_type": "code",
   "execution_count": 19,
   "id": "963d5536",
   "metadata": {},
   "outputs": [
    {
     "name": "stdout",
     "output_type": "stream",
     "text": [
      "[0 0 1 0 1 0 1 0 1 0 0 1 1 1 0 1 1 1 1]\n"
     ]
    }
   ],
   "source": [
    "residencetype_encoder = LabelEncoder()\n",
    "residencetype_encoder.fit(f1_categorical['Residence_type'])\n",
    "residencetype_values=residencetype_encoder.transform(f1_categorical['Residence_type'])\n",
    "print(residencetype_values[1:20])"
   ]
  },
  {
   "cell_type": "code",
   "execution_count": 21,
   "id": "77265c69",
   "metadata": {},
   "outputs": [
    {
     "name": "stdout",
     "output_type": "stream",
     "text": [
      "[0 1 0 0 1 1 0 0 0 0 0 0 1 0 0 1 1 0 1]\n"
     ]
    }
   ],
   "source": [
    "gender_encoder = LabelEncoder()\n",
    "gender_encoder.fit(f1_categorical['gender'])\n",
    "gender_values=gender_encoder.transform(f1_categorical['gender'])\n",
    "print(gender_values[1:20])"
   ]
  },
  {
   "cell_type": "code",
   "execution_count": 22,
   "id": "86ecb05d",
   "metadata": {},
   "outputs": [
    {
     "name": "stdout",
     "output_type": "stream",
     "text": [
      "[3 2 2 3 2 2 2 2 2 2 0 2 2 2 3 2 2 2 0]\n"
     ]
    }
   ],
   "source": [
    "work_type_encoder = LabelEncoder()\n",
    "work_type_encoder.fit(f1_categorical['work_type'])\n",
    "work_type_values=work_type_encoder.transform(f1_categorical['work_type'])\n",
    "print(work_type_values[1:20])"
   ]
  },
  {
   "cell_type": "code",
   "execution_count": 23,
   "id": "c9bd3ef2",
   "metadata": {},
   "outputs": [
    {
     "name": "stdout",
     "output_type": "stream",
     "text": [
      "[2 2 3 2 1 2 2 0 0 2 3 3 0 2 2 3 3 2 0]\n"
     ]
    }
   ],
   "source": [
    "smokingstatus_encoder = LabelEncoder()\n",
    "smokingstatus_encoder.fit(f1_categorical['smoking_status'])\n",
    "smokingstatus_values=smokingstatus_encoder.transform(f1_categorical['smoking_status'])\n",
    "print(smokingstatus_values[1:20])"
   ]
  },
  {
   "cell_type": "markdown",
   "id": "64273dda",
   "metadata": {},
   "source": [
    "# \tGenerate at least 2 new features using existing features of your choice"
   ]
  },
  {
   "cell_type": "code",
   "execution_count": null,
   "id": "bcdd68df",
   "metadata": {},
   "outputs": [],
   "source": []
  },
  {
   "cell_type": "markdown",
   "id": "2d5e974f",
   "metadata": {},
   "source": [
    "# Machine Learning: Select Important Features and create a dataframe\n"
   ]
  },
  {
   "cell_type": "code",
   "execution_count": 25,
   "id": "b7804cad",
   "metadata": {},
   "outputs": [
    {
     "data": {
      "text/html": [
       "<div>\n",
       "<style scoped>\n",
       "    .dataframe tbody tr th:only-of-type {\n",
       "        vertical-align: middle;\n",
       "    }\n",
       "\n",
       "    .dataframe tbody tr th {\n",
       "        vertical-align: top;\n",
       "    }\n",
       "\n",
       "    .dataframe thead th {\n",
       "        text-align: right;\n",
       "    }\n",
       "</style>\n",
       "<table border=\"1\" class=\"dataframe\">\n",
       "  <thead>\n",
       "    <tr style=\"text-align: right;\">\n",
       "      <th></th>\n",
       "      <th>id</th>\n",
       "      <th>gender</th>\n",
       "      <th>age</th>\n",
       "      <th>hypertension</th>\n",
       "      <th>heart_disease</th>\n",
       "      <th>avg_glucose_level</th>\n",
       "      <th>bmi</th>\n",
       "      <th>smoking_status</th>\n",
       "      <th>stroke</th>\n",
       "    </tr>\n",
       "  </thead>\n",
       "  <tbody>\n",
       "    <tr>\n",
       "      <th>0</th>\n",
       "      <td>9046</td>\n",
       "      <td>Male</td>\n",
       "      <td>67.0</td>\n",
       "      <td>0</td>\n",
       "      <td>1</td>\n",
       "      <td>228.69</td>\n",
       "      <td>36.6</td>\n",
       "      <td>formerly smoked</td>\n",
       "      <td>1</td>\n",
       "    </tr>\n",
       "    <tr>\n",
       "      <th>1</th>\n",
       "      <td>51676</td>\n",
       "      <td>Female</td>\n",
       "      <td>61.0</td>\n",
       "      <td>0</td>\n",
       "      <td>0</td>\n",
       "      <td>202.21</td>\n",
       "      <td>0.0</td>\n",
       "      <td>never smoked</td>\n",
       "      <td>1</td>\n",
       "    </tr>\n",
       "    <tr>\n",
       "      <th>2</th>\n",
       "      <td>31112</td>\n",
       "      <td>Male</td>\n",
       "      <td>80.0</td>\n",
       "      <td>0</td>\n",
       "      <td>1</td>\n",
       "      <td>105.92</td>\n",
       "      <td>32.5</td>\n",
       "      <td>never smoked</td>\n",
       "      <td>1</td>\n",
       "    </tr>\n",
       "    <tr>\n",
       "      <th>3</th>\n",
       "      <td>60182</td>\n",
       "      <td>Female</td>\n",
       "      <td>49.0</td>\n",
       "      <td>0</td>\n",
       "      <td>0</td>\n",
       "      <td>171.23</td>\n",
       "      <td>34.4</td>\n",
       "      <td>smokes</td>\n",
       "      <td>1</td>\n",
       "    </tr>\n",
       "    <tr>\n",
       "      <th>4</th>\n",
       "      <td>1665</td>\n",
       "      <td>Female</td>\n",
       "      <td>79.0</td>\n",
       "      <td>1</td>\n",
       "      <td>0</td>\n",
       "      <td>174.12</td>\n",
       "      <td>24.0</td>\n",
       "      <td>never smoked</td>\n",
       "      <td>1</td>\n",
       "    </tr>\n",
       "    <tr>\n",
       "      <th>...</th>\n",
       "      <td>...</td>\n",
       "      <td>...</td>\n",
       "      <td>...</td>\n",
       "      <td>...</td>\n",
       "      <td>...</td>\n",
       "      <td>...</td>\n",
       "      <td>...</td>\n",
       "      <td>...</td>\n",
       "      <td>...</td>\n",
       "    </tr>\n",
       "    <tr>\n",
       "      <th>95</th>\n",
       "      <td>2458</td>\n",
       "      <td>Female</td>\n",
       "      <td>78.0</td>\n",
       "      <td>0</td>\n",
       "      <td>0</td>\n",
       "      <td>235.63</td>\n",
       "      <td>32.3</td>\n",
       "      <td>never smoked</td>\n",
       "      <td>1</td>\n",
       "    </tr>\n",
       "    <tr>\n",
       "      <th>96</th>\n",
       "      <td>35512</td>\n",
       "      <td>Female</td>\n",
       "      <td>70.0</td>\n",
       "      <td>0</td>\n",
       "      <td>0</td>\n",
       "      <td>76.34</td>\n",
       "      <td>24.4</td>\n",
       "      <td>formerly smoked</td>\n",
       "      <td>1</td>\n",
       "    </tr>\n",
       "    <tr>\n",
       "      <th>97</th>\n",
       "      <td>56841</td>\n",
       "      <td>Male</td>\n",
       "      <td>58.0</td>\n",
       "      <td>0</td>\n",
       "      <td>1</td>\n",
       "      <td>240.59</td>\n",
       "      <td>31.4</td>\n",
       "      <td>smokes</td>\n",
       "      <td>1</td>\n",
       "    </tr>\n",
       "    <tr>\n",
       "      <th>98</th>\n",
       "      <td>8154</td>\n",
       "      <td>Male</td>\n",
       "      <td>57.0</td>\n",
       "      <td>1</td>\n",
       "      <td>0</td>\n",
       "      <td>78.92</td>\n",
       "      <td>27.7</td>\n",
       "      <td>formerly smoked</td>\n",
       "      <td>1</td>\n",
       "    </tr>\n",
       "    <tr>\n",
       "      <th>99</th>\n",
       "      <td>4639</td>\n",
       "      <td>Female</td>\n",
       "      <td>69.0</td>\n",
       "      <td>0</td>\n",
       "      <td>0</td>\n",
       "      <td>82.81</td>\n",
       "      <td>28.0</td>\n",
       "      <td>never smoked</td>\n",
       "      <td>1</td>\n",
       "    </tr>\n",
       "  </tbody>\n",
       "</table>\n",
       "<p>100 rows × 9 columns</p>\n",
       "</div>"
      ],
      "text/plain": [
       "       id  gender   age  hypertension  heart_disease  avg_glucose_level   bmi  \\\n",
       "0    9046    Male  67.0             0              1             228.69  36.6   \n",
       "1   51676  Female  61.0             0              0             202.21   0.0   \n",
       "2   31112    Male  80.0             0              1             105.92  32.5   \n",
       "3   60182  Female  49.0             0              0             171.23  34.4   \n",
       "4    1665  Female  79.0             1              0             174.12  24.0   \n",
       "..    ...     ...   ...           ...            ...                ...   ...   \n",
       "95   2458  Female  78.0             0              0             235.63  32.3   \n",
       "96  35512  Female  70.0             0              0              76.34  24.4   \n",
       "97  56841    Male  58.0             0              1             240.59  31.4   \n",
       "98   8154    Male  57.0             1              0              78.92  27.7   \n",
       "99   4639  Female  69.0             0              0              82.81  28.0   \n",
       "\n",
       "     smoking_status  stroke  \n",
       "0   formerly smoked       1  \n",
       "1      never smoked       1  \n",
       "2      never smoked       1  \n",
       "3            smokes       1  \n",
       "4      never smoked       1  \n",
       "..              ...     ...  \n",
       "95     never smoked       1  \n",
       "96  formerly smoked       1  \n",
       "97           smokes       1  \n",
       "98  formerly smoked       1  \n",
       "99     never smoked       1  \n",
       "\n",
       "[100 rows x 9 columns]"
      ]
     },
     "execution_count": 25,
     "metadata": {},
     "output_type": "execute_result"
    }
   ],
   "source": [
    "imp_features=f1[['id','gender','age','hypertension','heart_disease','avg_glucose_level','bmi','smoking_status','stroke']]\n",
    "imp_features.head(100)"
   ]
  },
  {
   "cell_type": "markdown",
   "id": "2a8bad8d",
   "metadata": {},
   "source": [
    "# \tSplit Data to train, test, validate"
   ]
  },
  {
   "cell_type": "code",
   "execution_count": 27,
   "id": "e9d84be9",
   "metadata": {},
   "outputs": [],
   "source": [
    "from sklearn.model_selection import train_test_split\n",
    "\n",
    "X = imp_features.iloc[:, :-1]\n",
    "y = imp_features.iloc[:, -1]\n",
    "\n",
    "X_train, X_test, y_train, y_test = train_test_split(\n",
    "    X, y, test_size=0.3, random_state=5)\n"
   ]
  },
  {
   "cell_type": "code",
   "execution_count": null,
   "id": "78fca716",
   "metadata": {},
   "outputs": [],
   "source": []
  },
  {
   "cell_type": "code",
   "execution_count": null,
   "id": "dc6d555e",
   "metadata": {},
   "outputs": [],
   "source": []
  },
  {
   "cell_type": "code",
   "execution_count": null,
   "id": "0d31d9f0",
   "metadata": {},
   "outputs": [],
   "source": []
  }
 ],
 "metadata": {
  "kernelspec": {
   "display_name": "Python 3 (ipykernel)",
   "language": "python",
   "name": "python3"
  },
  "language_info": {
   "codemirror_mode": {
    "name": "ipython",
    "version": 3
   },
   "file_extension": ".py",
   "mimetype": "text/x-python",
   "name": "python",
   "nbconvert_exporter": "python",
   "pygments_lexer": "ipython3",
   "version": "3.9.13"
  }
 },
 "nbformat": 4,
 "nbformat_minor": 5
}
